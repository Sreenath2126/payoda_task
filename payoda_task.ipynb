{
  "nbformat": 4,
  "nbformat_minor": 0,
  "metadata": {
    "colab": {
      "name": "payoda_task.ipynb",
      "provenance": [],
      "collapsed_sections": []
    },
    "kernelspec": {
      "name": "python3",
      "display_name": "Python 3"
    }
  },
  "cells": [
    {
      "cell_type": "markdown",
      "metadata": {
        "id": "u8xJX50Jsrnp"
      },
      "source": [
        "import"
      ]
    },
    {
      "cell_type": "code",
      "metadata": {
        "id": "HXHq4cjvNIKG"
      },
      "source": [
        "import numpy as np\r\n",
        "import matplotlib.pyplot as plt\r\n",
        "import pandas as pd\r\n",
        "dataset = pd.read_csv('/content/hepatitis_csv.csv')"
      ],
      "execution_count": 3,
      "outputs": []
    },
    {
      "cell_type": "markdown",
      "metadata": {
        "id": "UNpFhG0osvfy"
      },
      "source": [
        "EDA"
      ]
    },
    {
      "cell_type": "code",
      "metadata": {
        "colab": {
          "base_uri": "https://localhost:8080/"
        },
        "id": "_N3jZFMVpWaN",
        "outputId": "6433678a-baf9-4748-cb38-129011696789"
      },
      "source": [
        "dataset.info()"
      ],
      "execution_count": 5,
      "outputs": [
        {
          "output_type": "stream",
          "text": [
            "<class 'pandas.core.frame.DataFrame'>\n",
            "RangeIndex: 155 entries, 0 to 154\n",
            "Data columns (total 20 columns):\n",
            " #   Column           Non-Null Count  Dtype  \n",
            "---  ------           --------------  -----  \n",
            " 0   age              155 non-null    int64  \n",
            " 1   sex              155 non-null    object \n",
            " 2   steroid          154 non-null    object \n",
            " 3   antivirals       155 non-null    bool   \n",
            " 4   fatigue          154 non-null    object \n",
            " 5   malaise          154 non-null    object \n",
            " 6   anorexia         154 non-null    object \n",
            " 7   liver_big        145 non-null    object \n",
            " 8   liver_firm       144 non-null    object \n",
            " 9   spleen_palpable  150 non-null    object \n",
            " 10  spiders          150 non-null    object \n",
            " 11  ascites          150 non-null    object \n",
            " 12  varices          150 non-null    object \n",
            " 13  bilirubin        149 non-null    float64\n",
            " 14  alk_phosphate    126 non-null    float64\n",
            " 15  sgot             151 non-null    float64\n",
            " 16  albumin          139 non-null    float64\n",
            " 17  protime          88 non-null     float64\n",
            " 18  histology        155 non-null    bool   \n",
            " 19  class            155 non-null    object \n",
            "dtypes: bool(2), float64(5), int64(1), object(12)\n",
            "memory usage: 22.2+ KB\n"
          ],
          "name": "stdout"
        }
      ]
    },
    {
      "cell_type": "markdown",
      "metadata": {
        "id": "D87SCFQQs-CD"
      },
      "source": [
        "null values"
      ]
    },
    {
      "cell_type": "code",
      "metadata": {
        "colab": {
          "base_uri": "https://localhost:8080/"
        },
        "id": "DhPfZdPGpYR2",
        "outputId": "e72ffc40-9077-4e6e-9ec4-f13dccdb3916"
      },
      "source": [
        "dataset.isna().sum()"
      ],
      "execution_count": 6,
      "outputs": [
        {
          "output_type": "execute_result",
          "data": {
            "text/plain": [
              "age                 0\n",
              "sex                 0\n",
              "steroid             1\n",
              "antivirals          0\n",
              "fatigue             1\n",
              "malaise             1\n",
              "anorexia            1\n",
              "liver_big          10\n",
              "liver_firm         11\n",
              "spleen_palpable     5\n",
              "spiders             5\n",
              "ascites             5\n",
              "varices             5\n",
              "bilirubin           6\n",
              "alk_phosphate      29\n",
              "sgot                4\n",
              "albumin            16\n",
              "protime            67\n",
              "histology           0\n",
              "class               0\n",
              "dtype: int64"
            ]
          },
          "metadata": {
            "tags": []
          },
          "execution_count": 6
        }
      ]
    },
    {
      "cell_type": "markdown",
      "metadata": {
        "id": "JEwwpBentCHL"
      },
      "source": [
        "correlation plot"
      ]
    },
    {
      "cell_type": "code",
      "metadata": {
        "colab": {
          "base_uri": "https://localhost:8080/",
          "height": 349
        },
        "id": "r_FOKHxTpovE",
        "outputId": "aed79b8d-dd44-4933-962a-ea2c3192afc6"
      },
      "source": [
        "# import pandas.rpy.common as com\r\n",
        "import seaborn as sns\r\n",
        "%matplotlib inline\r\n",
        "\r\n",
        "# load the R package ISLR\r\n",
        "# infert = com.importr(\"ISLR\")\r\n",
        "\r\n",
        "# load the Auto dataset\r\n",
        "# auto_df = com.load_data('Auto')\r\n",
        "\r\n",
        "# calculate the correlation matrix\r\n",
        "corr = dataset.corr()\r\n",
        "\r\n",
        "# plot the heatmap\r\n",
        "sns.heatmap(corr, \r\n",
        "        xticklabels=corr.columns,\r\n",
        "        yticklabels=corr.columns)"
      ],
      "execution_count": 8,
      "outputs": [
        {
          "output_type": "execute_result",
          "data": {
            "text/plain": [
              "<matplotlib.axes._subplots.AxesSubplot at 0x7f07135760f0>"
            ]
          },
          "metadata": {
            "tags": []
          },
          "execution_count": 8
        },
        {
          "output_type": "display_data",
          "data": {
            "image/png": "[encoded data removed]",
            "text/plain": [
              "<Figure size 432x288 with 2 Axes>"
            ]
          },
          "metadata": {
            "tags": [],
            "needs_background": "light"
          }
        }
      ]
    },
    {
      "cell_type": "markdown",
      "metadata": {
        "id": "KbHGtrbptIs-"
      },
      "source": [
        "correlation"
      ]
    },
    {
      "cell_type": "code",
      "metadata": {
        "colab": {
          "base_uri": "https://localhost:8080/",
          "height": 284
        },
        "id": "JkBXFLT1p-Ik",
        "outputId": "d7610372-9a1b-4246-ef65-b0098237be6f"
      },
      "source": [
        "corr"
      ],
      "execution_count": 9,
      "outputs": [
        {
          "output_type": "execute_result",
          "data": {
            "text/html": [
              "<div>\n",
              "<style scoped>\n",
              "    .dataframe tbody tr th:only-of-type {\n",
              "        vertical-align: middle;\n",
              "    }\n",
              "\n",
              "    .dataframe tbody tr th {\n",
              "        vertical-align: top;\n",
              "    }\n",
              "\n",
              "    .dataframe thead th {\n",
              "        text-align: right;\n",
              "    }\n",
              "</style>\n",
              "<table border=\"1\" class=\"dataframe\">\n",
              "  <thead>\n",
              "    <tr style=\"text-align: right;\">\n",
              "      <th></th>\n",
              "      <th>age</th>\n",
              "      <th>antivirals</th>\n",
              "      <th>bilirubin</th>\n",
              "      <th>alk_phosphate</th>\n",
              "      <th>sgot</th>\n",
              "      <th>albumin</th>\n",
              "      <th>protime</th>\n",
              "      <th>histology</th>\n",
              "    </tr>\n",
              "  </thead>\n",
              "  <tbody>\n",
              "    <tr>\n",
              "      <th>age</th>\n",
              "      <td>1.000000</td>\n",
              "      <td>0.013100</td>\n",
              "      <td>0.125463</td>\n",
              "      <td>0.008924</td>\n",
              "      <td>0.082545</td>\n",
              "      <td>-0.262981</td>\n",
              "      <td>-0.222233</td>\n",
              "      <td>0.170780</td>\n",
              "    </tr>\n",
              "    <tr>\n",
              "      <th>antivirals</th>\n",
              "      <td>0.013100</td>\n",
              "      <td>1.000000</td>\n",
              "      <td>-0.185023</td>\n",
              "      <td>-0.205236</td>\n",
              "      <td>-0.108138</td>\n",
              "      <td>0.170074</td>\n",
              "      <td>0.030287</td>\n",
              "      <td>-0.209242</td>\n",
              "    </tr>\n",
              "    <tr>\n",
              "      <th>bilirubin</th>\n",
              "      <td>0.125463</td>\n",
              "      <td>-0.185023</td>\n",
              "      <td>1.000000</td>\n",
              "      <td>0.220062</td>\n",
              "      <td>0.232967</td>\n",
              "      <td>-0.377318</td>\n",
              "      <td>-0.302608</td>\n",
              "      <td>0.262428</td>\n",
              "    </tr>\n",
              "    <tr>\n",
              "      <th>alk_phosphate</th>\n",
              "      <td>0.008924</td>\n",
              "      <td>-0.205236</td>\n",
              "      <td>0.220062</td>\n",
              "      <td>1.000000</td>\n",
              "      <td>0.239581</td>\n",
              "      <td>-0.403857</td>\n",
              "      <td>-0.226846</td>\n",
              "      <td>0.284914</td>\n",
              "    </tr>\n",
              "    <tr>\n",
              "      <th>sgot</th>\n",
              "      <td>0.082545</td>\n",
              "      <td>-0.108138</td>\n",
              "      <td>0.232967</td>\n",
              "      <td>0.239581</td>\n",
              "      <td>1.000000</td>\n",
              "      <td>-0.136276</td>\n",
              "      <td>-0.189149</td>\n",
              "      <td>0.131125</td>\n",
              "    </tr>\n",
              "    <tr>\n",
              "      <th>albumin</th>\n",
              "      <td>-0.262981</td>\n",
              "      <td>0.170074</td>\n",
              "      <td>-0.377318</td>\n",
              "      <td>-0.403857</td>\n",
              "      <td>-0.136276</td>\n",
              "      <td>1.000000</td>\n",
              "      <td>0.424419</td>\n",
              "      <td>-0.324751</td>\n",
              "    </tr>\n",
              "    <tr>\n",
              "      <th>protime</th>\n",
              "      <td>-0.222233</td>\n",
              "      <td>0.030287</td>\n",
              "      <td>-0.302608</td>\n",
              "      <td>-0.226846</td>\n",
              "      <td>-0.189149</td>\n",
              "      <td>0.424419</td>\n",
              "      <td>1.000000</td>\n",
              "      <td>-0.312062</td>\n",
              "    </tr>\n",
              "    <tr>\n",
              "      <th>histology</th>\n",
              "      <td>0.170780</td>\n",
              "      <td>-0.209242</td>\n",
              "      <td>0.262428</td>\n",
              "      <td>0.284914</td>\n",
              "      <td>0.131125</td>\n",
              "      <td>-0.324751</td>\n",
              "      <td>-0.312062</td>\n",
              "      <td>1.000000</td>\n",
              "    </tr>\n",
              "  </tbody>\n",
              "</table>\n",
              "</div>"
            ],
            "text/plain": [
              "                    age  antivirals  bilirubin  ...   albumin   protime  histology\n",
              "age            1.000000    0.013100   0.125463  ... -0.262981 -0.222233   0.170780\n",
              "antivirals     0.013100    1.000000  -0.185023  ...  0.170074  0.030287  -0.209242\n",
              "bilirubin      0.125463   -0.185023   1.000000  ... -0.377318 -0.302608   0.262428\n",
              "alk_phosphate  0.008924   -0.205236   0.220062  ... -0.403857 -0.226846   0.284914\n",
              "sgot           0.082545   -0.108138   0.232967  ... -0.136276 -0.189149   0.131125\n",
              "albumin       -0.262981    0.170074  -0.377318  ...  1.000000  0.424419  -0.324751\n",
              "protime       -0.222233    0.030287  -0.302608  ...  0.424419  1.000000  -0.312062\n",
              "histology      0.170780   -0.209242   0.262428  ... -0.324751 -0.312062   1.000000\n",
              "\n",
              "[8 rows x 8 columns]"
            ]
          },
          "metadata": {
            "tags": []
          },
          "execution_count": 9
        }
      ]
    },
    {
      "cell_type": "markdown",
      "metadata": {
        "id": "2bXJTB-btOh1"
      },
      "source": [
        "comparing each variables"
      ]
    },
    {
      "cell_type": "code",
      "metadata": {
        "colab": {
          "base_uri": "https://localhost:8080/"
        },
        "id": "Q_w1KxAlqFol",
        "outputId": "43caa248-23a4-42cd-e006-41542897c4b2"
      },
      "source": [
        "dataset.loc[(dataset['histology']==True),['sex']].value_counts()"
      ],
      "execution_count": 11,
      "outputs": [
        {
          "output_type": "execute_result",
          "data": {
            "text/plain": [
              "sex   \n",
              "female    66\n",
              "male       4\n",
              "dtype: int64"
            ]
          },
          "metadata": {
            "tags": []
          },
          "execution_count": 11
        }
      ]
    },
    {
      "cell_type": "markdown",
      "metadata": {
        "id": "G9yPOIy8tc_2"
      },
      "source": [
        "Comparison of antivirals,spleen_palpable,spiders,varices"
      ]
    },
    {
      "cell_type": "code",
      "metadata": {
        "colab": {
          "base_uri": "https://localhost:8080/"
        },
        "id": "nUU6Et4cqVJB",
        "outputId": "39dbd808-3023-47aa-9ef0-eb11c761b2f3"
      },
      "source": [
        "dataset.loc[(dataset['antivirals']==True),['spleen_palpable','spiders','varices']].value_counts()"
      ],
      "execution_count": 12,
      "outputs": [
        {
          "output_type": "execute_result",
          "data": {
            "text/plain": [
              "spleen_palpable  spiders  varices\n",
              "False            False    False      19\n",
              "                 True     False       4\n",
              "True             False    False       1\n",
              "dtype: int64"
            ]
          },
          "metadata": {
            "tags": []
          },
          "execution_count": 12
        }
      ]
    },
    {
      "cell_type": "markdown",
      "metadata": {
        "id": "10HpE1TrtpXf"
      },
      "source": [
        "Comparison of ascites and liver big"
      ]
    },
    {
      "cell_type": "code",
      "metadata": {
        "colab": {
          "base_uri": "https://localhost:8080/"
        },
        "id": "9uBF6pqyqksl",
        "outputId": "59ef9010-9b78-4317-c5d4-c602cbc2385c"
      },
      "source": [
        "dataset.loc[(dataset['ascites']==True),['liver_big']].value_counts()"
      ],
      "execution_count": 13,
      "outputs": [
        {
          "output_type": "execute_result",
          "data": {
            "text/plain": [
              "liver_big\n",
              "True         16\n",
              "False         1\n",
              "dtype: int64"
            ]
          },
          "metadata": {
            "tags": []
          },
          "execution_count": 13
        }
      ]
    },
    {
      "cell_type": "markdown",
      "metadata": {
        "id": "nLGFzdXMtwJj"
      },
      "source": [
        "Comparison of steroids and liver big"
      ]
    },
    {
      "cell_type": "code",
      "metadata": {
        "colab": {
          "base_uri": "https://localhost:8080/"
        },
        "id": "jyT3bfByqwEZ",
        "outputId": "637c6217-8d6f-4e62-d4c0-fa08408825dc"
      },
      "source": [
        "dataset.loc[(dataset['steroid']==True),['liver_big']].value_counts()"
      ],
      "execution_count": 14,
      "outputs": [
        {
          "output_type": "execute_result",
          "data": {
            "text/plain": [
              "liver_big\n",
              "True         67\n",
              "False         7\n",
              "dtype: int64"
            ]
          },
          "metadata": {
            "tags": []
          },
          "execution_count": 14
        }
      ]
    },
    {
      "cell_type": "markdown",
      "metadata": {
        "id": "VzOtuB3Mt1vd"
      },
      "source": [
        "Comparison of class and sex"
      ]
    },
    {
      "cell_type": "code",
      "metadata": {
        "colab": {
          "base_uri": "https://localhost:8080/"
        },
        "id": "UFbq0rgJq_jC",
        "outputId": "cb123a01-5dc2-4b3d-c05b-99721f8f7e5b"
      },
      "source": [
        "dataset.loc[(dataset['class']=='die'),['sex']].value_counts()\r\n"
      ],
      "execution_count": 15,
      "outputs": [
        {
          "output_type": "execute_result",
          "data": {
            "text/plain": [
              "sex   \n",
              "female    32\n",
              "dtype: int64"
            ]
          },
          "metadata": {
            "tags": []
          },
          "execution_count": 15
        }
      ]
    },
    {
      "cell_type": "markdown",
      "metadata": {
        "id": "I4bEBxPht7UG"
      },
      "source": [
        "Comparison of malaise and liver big"
      ]
    },
    {
      "cell_type": "code",
      "metadata": {
        "colab": {
          "base_uri": "https://localhost:8080/",
          "height": 402
        },
        "id": "EuNLS-WXrInk",
        "outputId": "0bdb5459-326a-4f7b-a4c3-042afe172a94"
      },
      "source": [
        "dataset.loc[(dataset['malaise']==True),['liver_big']]"
      ],
      "execution_count": 16,
      "outputs": [
        {
          "output_type": "execute_result",
          "data": {
            "text/html": [
              "<div>\n",
              "<style scoped>\n",
              "    .dataframe tbody tr th:only-of-type {\n",
              "        vertical-align: middle;\n",
              "    }\n",
              "\n",
              "    .dataframe tbody tr th {\n",
              "        vertical-align: top;\n",
              "    }\n",
              "\n",
              "    .dataframe thead th {\n",
              "        text-align: right;\n",
              "    }\n",
              "</style>\n",
              "<table border=\"1\" class=\"dataframe\">\n",
              "  <thead>\n",
              "    <tr style=\"text-align: right;\">\n",
              "      <th></th>\n",
              "      <th>liver_big</th>\n",
              "    </tr>\n",
              "  </thead>\n",
              "  <tbody>\n",
              "    <tr>\n",
              "      <th>15</th>\n",
              "      <td>True</td>\n",
              "    </tr>\n",
              "    <tr>\n",
              "      <th>21</th>\n",
              "      <td>False</td>\n",
              "    </tr>\n",
              "    <tr>\n",
              "      <th>25</th>\n",
              "      <td>True</td>\n",
              "    </tr>\n",
              "    <tr>\n",
              "      <th>26</th>\n",
              "      <td>True</td>\n",
              "    </tr>\n",
              "    <tr>\n",
              "      <th>29</th>\n",
              "      <td>True</td>\n",
              "    </tr>\n",
              "    <tr>\n",
              "      <th>...</th>\n",
              "      <td>...</td>\n",
              "    </tr>\n",
              "    <tr>\n",
              "      <th>143</th>\n",
              "      <td>True</td>\n",
              "    </tr>\n",
              "    <tr>\n",
              "      <th>144</th>\n",
              "      <td>True</td>\n",
              "    </tr>\n",
              "    <tr>\n",
              "      <th>147</th>\n",
              "      <td>NaN</td>\n",
              "    </tr>\n",
              "    <tr>\n",
              "      <th>150</th>\n",
              "      <td>True</td>\n",
              "    </tr>\n",
              "    <tr>\n",
              "      <th>152</th>\n",
              "      <td>False</td>\n",
              "    </tr>\n",
              "  </tbody>\n",
              "</table>\n",
              "<p>61 rows × 1 columns</p>\n",
              "</div>"
            ],
            "text/plain": [
              "    liver_big\n",
              "15       True\n",
              "21      False\n",
              "25       True\n",
              "26       True\n",
              "29       True\n",
              "..        ...\n",
              "143      True\n",
              "144      True\n",
              "147       NaN\n",
              "150      True\n",
              "152     False\n",
              "\n",
              "[61 rows x 1 columns]"
            ]
          },
          "metadata": {
            "tags": []
          },
          "execution_count": 16
        }
      ]
    },
    {
      "cell_type": "markdown",
      "metadata": {
        "id": "yprlxEW3uFXo"
      },
      "source": [
        "Line graph for age of male and female\r\n",
        "\r\n"
      ]
    },
    {
      "cell_type": "code",
      "metadata": {
        "colab": {
          "base_uri": "https://localhost:8080/",
          "height": 332
        },
        "id": "-kfdl5z9u9Dt",
        "outputId": "705927d2-c197-40f0-ddf7-2db915990c59"
      },
      "source": [
        "dataset.groupby('sex').age.plot(kind='kde')"
      ],
      "execution_count": 17,
      "outputs": [
        {
          "output_type": "execute_result",
          "data": {
            "text/plain": [
              "sex\n",
              "female    AxesSubplot(0.125,0.125;0.775x0.755)\n",
              "male      AxesSubplot(0.125,0.125;0.775x0.755)\n",
              "Name: age, dtype: object"
            ]
          },
          "metadata": {
            "tags": []
          },
          "execution_count": 17
        },
        {
          "output_type": "display_data",
          "data": {
            "image/png": "[encoded data removed]",
            "text/plain": [
              "<Figure size 432x288 with 1 Axes>"
            ]
          },
          "metadata": {
            "tags": [],
            "needs_background": "light"
          }
        }
      ]
    },
    {
      "cell_type": "markdown",
      "metadata": {
        "id": "NLN-PcdWvMi8"
      },
      "source": [
        "interpretation:\r\n",
        "1. It is evident that female population is high and the most affected age group is 30 - 40.\r\n",
        "2. Antiviral is important, it will prevent spleen,spider and vertices. \r\n",
        "3. he patient with malaise will have fatigue but the vice versa need not be true.\r\n",
        "4. Mostly affected age group is 30-40."
      ]
    }
  ]
}